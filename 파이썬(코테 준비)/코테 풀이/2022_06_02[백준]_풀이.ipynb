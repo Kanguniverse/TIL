{
  "nbformat": 4,
  "nbformat_minor": 0,
  "metadata": {
    "colab": {
      "name": "2022-06-02[백준]_풀이.ipynb",
      "provenance": [],
      "authorship_tag": "ABX9TyM37g5zkO4JY0ajYfH8iBZO",
      "include_colab_link": true
    },
    "kernelspec": {
      "name": "python3",
      "display_name": "Python 3"
    },
    "language_info": {
      "name": "python"
    }
  },
  "cells": [
    {
      "cell_type": "markdown",
      "metadata": {
        "id": "view-in-github",
        "colab_type": "text"
      },
      "source": [
        "<a href=\"https://colab.research.google.com/github/Kanguniverse/TIL/blob/main/2022_06_02%5B%EB%B0%B1%EC%A4%80%5D_%ED%92%80%EC%9D%B4.ipynb\" target=\"_parent\"><img src=\"https://colab.research.google.com/assets/colab-badge.svg\" alt=\"Open In Colab\"/></a>"
      ]
    },
    {
      "cell_type": "code",
      "execution_count": null,
      "metadata": {
        "colab": {
          "base_uri": "https://localhost:8080/"
        },
        "id": "Bmjk_6u1nSWv",
        "outputId": "16e39dac-cb60-40ae-daaa-b19e36ce9834"
      },
      "outputs": [
        {
          "output_type": "stream",
          "name": "stdout",
          "text": [
            "5\n",
            "1 6\n",
            "1\n",
            "3 7\n",
            "7\n",
            "6 2\n",
            "6\n",
            "7 100\n",
            "1\n",
            "9 635\n",
            "9\n"
          ]
        }
      ],
      "source": [
        "# 1009번 문제 분산처리\n",
        "\n",
        "# 풀이 \n",
        "number = int(input())\n",
        "\n",
        "for i in range(number):\n",
        "    a,b = map(int,input().split())\n",
        "    number_list = []\n",
        "    for j in range(1,b+1):\n",
        "        new_data = (a**j)%10\n",
        "        if new_data not in number_list:\n",
        "            number_list.append(new_data)\n",
        "        else :\n",
        "            break\n",
        "    if number_list[b%len(number_list)-1] == 0:\n",
        "        print(10)\n",
        "    else:\n",
        "        print(number_list[b%len(number_list)-1])"
      ]
    },
    {
      "cell_type": "code",
      "source": [
        "# 1076번 저항문제\n",
        "\n",
        "dic = {'black':0, 'brown':1, 'red':2, 'orange': 3, 'yellow':4, 'green':5, 'blue':6,\n",
        "       'violet':7, 'grey':8, 'white':9}\n",
        "\n",
        "count = 0\n",
        "sum = 0\n",
        "for i in range(3):\n",
        "    new_data = input()\n",
        "    count +=1\n",
        "    if count==1:\n",
        "        sum+=10*dic[new_data]\n",
        "    elif count==2:\n",
        "        sum+=dic[new_data]\n",
        "    else:\n",
        "        sum*=(10**dic[new_data])\n",
        "print(sum)"
      ],
      "metadata": {
        "id": "3NaHURtIp8uO",
        "colab": {
          "base_uri": "https://localhost:8080/"
        },
        "outputId": "67e77825-b9d0-434e-f7b0-989b6b155e1e"
      },
      "execution_count": null,
      "outputs": [
        {
          "output_type": "stream",
          "name": "stdout",
          "text": [
            "white\n",
            "white\n",
            "white\n",
            "99000000000\n"
          ]
        }
      ]
    },
    {
      "cell_type": "code",
      "source": [
        "# 1225번 이상한 곱셈 문제\n",
        "\n",
        "a,b = input().split()\n",
        "a.replace('0','')\n",
        "b.replace('0','')\n",
        "\n",
        "put_data = list(set(a))\n",
        "multi_data = list(set(b))\n",
        "\n",
        "isum = 0\n",
        "\n",
        "for i in put_data:\n",
        "    for j in multi_data:\n",
        "        isum+=int(i)*int(j)*int(a.count(i))*int(b.count(j))\n",
        "print(isum)"
      ],
      "metadata": {
        "colab": {
          "base_uri": "https://localhost:8080/"
        },
        "id": "zA7gH2oKGZWg",
        "outputId": "d324ce69-c63f-4def-cdac-a4d11ad5d288"
      },
      "execution_count": null,
      "outputs": [
        {
          "output_type": "stream",
          "name": "stdout",
          "text": [
            "123 45\n",
            "54\n"
          ]
        }
      ]
    }
  ]
}