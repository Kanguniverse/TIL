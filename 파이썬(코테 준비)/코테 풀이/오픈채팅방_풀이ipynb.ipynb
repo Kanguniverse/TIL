{
  "nbformat": 4,
  "nbformat_minor": 0,
  "metadata": {
    "colab": {
      "name": "오픈채팅방_풀이ipynb",
      "provenance": [],
      "authorship_tag": "ABX9TyOMb+VR7oJx5GllY7g+N9Nf",
      "include_colab_link": true
    },
    "kernelspec": {
      "name": "python3",
      "display_name": "Python 3"
    },
    "language_info": {
      "name": "python"
    }
  },
  "cells": [
    {
      "cell_type": "markdown",
      "metadata": {
        "id": "view-in-github",
        "colab_type": "text"
      },
      "source": [
        "<a href=\"https://colab.research.google.com/github/Kanguniverse/TIL/blob/main/%EC%98%A4%ED%94%88%EC%B1%84%ED%8C%85%EB%B0%A9_%ED%92%80%EC%9D%B4ipynb.ipynb\" target=\"_parent\"><img src=\"https://colab.research.google.com/assets/colab-badge.svg\" alt=\"Open In Colab\"/></a>"
      ]
    },
    {
      "cell_type": "code",
      "execution_count": 1,
      "metadata": {
        "id": "6to2j19_fPUk"
      },
      "outputs": [],
      "source": [
        "def solution(record):\n",
        "    nick_name = {}\n",
        "    answer=[]\n",
        "    \n",
        "    for i in record:\n",
        "        slice_word = i.split()\n",
        "        if (slice_word[0] == 'Enter') or (slice_word[0] == 'Change'):\n",
        "            nick_name[slice_word[1]] = slice_word[2]\n",
        "    \n",
        "    for i in record:\n",
        "        slice_word = i.split()\n",
        "        if slice_word[0] == 'Enter':\n",
        "            answer.append(\"{}님이 들어왔습니다.\".format(nick_name[slice_word[1]]))\n",
        "        elif slice_word[0] == 'Leave':\n",
        "            answer.append(\"{}님이 나갔습니다.\".format(nick_name[slice_word[1]]))    \n",
        "    \n",
        "    return answer"
      ]
    },
    {
      "cell_type": "code",
      "source": [
        ""
      ],
      "metadata": {
        "id": "UCDxkW8ifYVV"
      },
      "execution_count": null,
      "outputs": []
    }
  ]
}