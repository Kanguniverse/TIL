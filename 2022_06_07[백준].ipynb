{
  "nbformat": 4,
  "nbformat_minor": 0,
  "metadata": {
    "colab": {
      "name": "2022-06-07[백준].ipynb",
      "provenance": [],
      "authorship_tag": "ABX9TyNmUIVZ/cQgyMSVvVSln7rh",
      "include_colab_link": true
    },
    "kernelspec": {
      "name": "python3",
      "display_name": "Python 3"
    },
    "language_info": {
      "name": "python"
    }
  },
  "cells": [
    {
      "cell_type": "markdown",
      "metadata": {
        "id": "view-in-github",
        "colab_type": "text"
      },
      "source": [
        "<a href=\"https://colab.research.google.com/github/Kanguniverse/TIL/blob/main/2022_06_07%5B%EB%B0%B1%EC%A4%80%5D.ipynb\" target=\"_parent\"><img src=\"https://colab.research.google.com/assets/colab-badge.svg\" alt=\"Open In Colab\"/></a>"
      ]
    },
    {
      "cell_type": "code",
      "execution_count": 11,
      "metadata": {
        "colab": {
          "base_uri": "https://localhost:8080/"
        },
        "id": "rDdaQJi9K3Kd",
        "outputId": "6008db9a-833a-4de7-e8d1-02e3faedcfad"
      },
      "outputs": [
        {
          "output_type": "stream",
          "name": "stdout",
          "text": [
            "6\n",
            "4\n"
          ]
        }
      ],
      "source": [
        "# 백준 2164번 문제 [내풀이]\n",
        "\n",
        "from collections import deque\n",
        "\n",
        "n = int(input())\n",
        "queue = deque([])\n",
        "\n",
        "for i in range(n,0,-1):\n",
        "    queue.append(i)\n",
        "\n",
        "card_count = 1\n",
        "\n",
        "while len(queue)>1:\n",
        "    if card_count%2==1:\n",
        "        queue.pop()\n",
        "    else:\n",
        "        new_data = queue.pop()\n",
        "        queue.appendleft(new_data)\n",
        "    card_count+=1\n",
        "\n",
        "print(queue[0])"
      ]
    },
    {
      "cell_type": "code",
      "source": [
        "# 코딩 강의 내용 \n",
        "\n",
        "# 1. 배열 사용하여 풀 경우 \n",
        "# 맨 앞의 값을 삭제\n",
        "# 맨 앞의 값을 맨 뒤로 보내기 (맨 앞 값 삭제, 맨 뒤값 삽입)\n",
        "# 배열에서 삭제/삽입 시간 복잡도 O(N)\n",
        "# queue 를 통해서 해결\n",
        "# queue의 삽입,삭제 시간복잡도는 O(1)\n",
        "\n",
        "from collections import deque\n",
        "\n",
        "N = int(input())\n",
        "\n",
        "dq = deque(range(1,N+1))\n",
        "\n",
        "while len(dq)>1:\n",
        "    dq.popleft()\n",
        "    dq.append(dq.popleft())\n",
        "\n",
        "print(dq.popleft())"
      ],
      "metadata": {
        "colab": {
          "base_uri": "https://localhost:8080/"
        },
        "id": "cjlJUql-LVLA",
        "outputId": "78b811c3-7431-4d18-b869-5dec4edf4654"
      },
      "execution_count": 13,
      "outputs": [
        {
          "output_type": "stream",
          "name": "stdout",
          "text": [
            "6\n",
            "4\n"
          ]
        }
      ]
    },
    {
      "cell_type": "code",
      "source": [
        ""
      ],
      "metadata": {
        "id": "Av3crcbzUfV5"
      },
      "execution_count": null,
      "outputs": []
    }
  ]
}