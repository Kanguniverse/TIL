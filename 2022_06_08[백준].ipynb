{
  "nbformat": 4,
  "nbformat_minor": 0,
  "metadata": {
    "colab": {
      "name": "2022-06-08[백준].ipynb",
      "provenance": [],
      "authorship_tag": "ABX9TyOo750euc8JHTRxuSjhBZw7",
      "include_colab_link": true
    },
    "kernelspec": {
      "name": "python3",
      "display_name": "Python 3"
    },
    "language_info": {
      "name": "python"
    }
  },
  "cells": [
    {
      "cell_type": "markdown",
      "metadata": {
        "id": "view-in-github",
        "colab_type": "text"
      },
      "source": [
        "<a href=\"https://colab.research.google.com/github/Kanguniverse/TIL/blob/main/2022_06_08%5B%EB%B0%B1%EC%A4%80%5D.ipynb\" target=\"_parent\"><img src=\"https://colab.research.google.com/assets/colab-badge.svg\" alt=\"Open In Colab\"/></a>"
      ]
    },
    {
      "cell_type": "code",
      "execution_count": null,
      "metadata": {
        "id": "sFamk2xyY-yj"
      },
      "outputs": [],
      "source": [
        "#백준 11286 문제 - 튜플 사용\n",
        "#절대값도 비교, 원본도 비교 2개의 값이 필요\n",
        "\n",
        "import heapq as hq\n",
        "import sys # colab에서는 사용이 안됌\n",
        "\n",
        "input = sys.stdin.readline\n",
        "pq = []\n",
        "N = int(input())\n",
        "\n",
        "for _ in range(N):\n",
        "    x = int(input())\n",
        "    if x:\n",
        "        hq.heappush(pq,(abs(x),x))\n",
        "    else:\n",
        "        print(hq.heappop(pq)[1] if pq else 0)"
      ]
    },
    {
      "cell_type": "code",
      "source": [
        "arr = [(3,4), (3,1), (8,5), (3,2), (8,7)]\n",
        "arr.sort()\n",
        "print(arr)\n",
        "# 1차적으로 튜플의 첫번째 요소 비교, 2차적으로 두번째 값을 비교"
      ],
      "metadata": {
        "colab": {
          "base_uri": "https://localhost:8080/"
        },
        "id": "DZzMZT_dcwGl",
        "outputId": "0f40fb3c-320a-4156-e1d8-6d3b469bf60b"
      },
      "execution_count": 2,
      "outputs": [
        {
          "output_type": "stream",
          "name": "stdout",
          "text": [
            "[(3, 1), (3, 2), (3, 4), (8, 5), (8, 7)]\n"
          ]
        }
      ]
    },
    {
      "cell_type": "code",
      "source": [
        "#백준 11286 문제 - 튜플 사용 안할시\n",
        "\n",
        "import heapq as hq\n",
        "\n",
        "min_heap = [] # 1, 2, 3, 8 , 13, 99, 242(양수)\n",
        "max_heap = [] # -1, -4, - 10, -1042(음수)\n",
        "# 파이썬에서 max_heap 사용시 넣을 때 - 부호 넣고 뺄때 다시 - 부호를 사용한다.\n",
        "N = int(input())\n",
        "\n",
        "for _ in range(N):\n",
        "    x = int(input())\n",
        "    if x:\n",
        "        if x>0:\n",
        "            hq.heappush(min_heap, x)\n",
        "        else:\n",
        "            hq.heappush(max_heap,-x)\n",
        "    else :\n",
        "        if min_heap:\n",
        "            if max_heap:\n",
        "                if min_heap[0] < abs(max_heap[0]):\n",
        "                    print(hq.heappop(min_heap))\n",
        "                else:\n",
        "                    print(-hq.heappop(max_heap))\n",
        "            else:\n",
        "                print(hq.heappop(min_heap))\n",
        "        else:\n",
        "            if max_heap:\n",
        "                print(-hq.heappop(max_heap))\n",
        "            else:\n",
        "                print(0)"
      ],
      "metadata": {
        "id": "LeeMF4rplfdY"
      },
      "execution_count": null,
      "outputs": []
    }
  ]
}