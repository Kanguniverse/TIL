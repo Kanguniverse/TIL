{
  "nbformat": 4,
  "nbformat_minor": 0,
  "metadata": {
    "colab": {
      "name": "2022-06-01_코딩테스트 공부.ipynb",
      "provenance": [],
      "authorship_tag": "ABX9TyPeTrvUbUpFE95wlPbYoMlb",
      "include_colab_link": true
    },
    "kernelspec": {
      "name": "python3",
      "display_name": "Python 3"
    },
    "language_info": {
      "name": "python"
    }
  },
  "cells": [
    {
      "cell_type": "markdown",
      "metadata": {
        "id": "view-in-github",
        "colab_type": "text"
      },
      "source": [
        "<a href=\"https://colab.research.google.com/github/Kanguniverse/TIL/blob/main/2022_06_01_%EC%BD%94%EB%94%A9%ED%85%8C%EC%8A%A4%ED%8A%B8_%EA%B3%B5%EB%B6%80.ipynb\" target=\"_parent\"><img src=\"https://colab.research.google.com/assets/colab-badge.svg\" alt=\"Open In Colab\"/></a>"
      ]
    },
    {
      "cell_type": "code",
      "source": [
        "# 우선순위 큐\n",
        "import heapq\n",
        "\n",
        "pq = []\n",
        "\n",
        "heapq.heappush(pq,456)\n",
        "heapq.heappush(pq,123)\n",
        "heapq.heappush(pq,789)\n",
        "print(\"size: \", len(pq))\n",
        "while len(pq)>0:\n",
        "    print(heapq.heappop(pq))"
      ],
      "metadata": {
        "id": "K8u5hTnjm749",
        "colab": {
          "base_uri": "https://localhost:8080/"
        },
        "outputId": "cc1454a9-81e6-460d-a24c-09b3aa9dbc20"
      },
      "execution_count": 1,
      "outputs": [
        {
          "output_type": "stream",
          "name": "stdout",
          "text": [
            "size:  3\n",
            "123\n",
            "456\n",
            "789\n"
          ]
        }
      ]
    },
    {
      "cell_type": "code",
      "source": [
        "# 맵 Map (Dictionary)\n",
        "\n",
        "# Key, Value 형태로 자료를 풀어야 할 때 사용\n",
        "# 삽입 / 삭제 (시간복잡도 : O(1))\n",
        "# 파이썬에서는 해쉬로 맵 구현 \n",
        "# Key는 중복을 허용하지 않는다.\n",
        "# Value는 중복이 가능하다."
      ],
      "metadata": {
        "id": "Gno_BoIaRoMq"
      },
      "execution_count": 8,
      "outputs": []
    },
    {
      "cell_type": "code",
      "source": [
        "# 집합 \n",
        "# 중복을 허용하지 않는다.\n",
        "# 삽입 / 삭제 (시간복잡도 : O(1))\n",
        "\n",
        "s = set()\n",
        "s.add(10) # 값을 더할 때는 add 사용\n",
        "s.add(10)\n",
        "s.add(50)\n",
        "s.add(10)\n",
        "s.add(70)\n",
        "print(s)\n",
        "s.remove(50) # 특정 값을 제거 하고 싶을 때는 remove 사용\n",
        "print(s)"
      ],
      "metadata": {
        "colab": {
          "base_uri": "https://localhost:8080/"
        },
        "id": "n4EMoevjVlOB",
        "outputId": "07d1ca35-bfd9-408e-9df0-58e088e0ab34"
      },
      "execution_count": 9,
      "outputs": [
        {
          "output_type": "stream",
          "name": "stdout",
          "text": [
            "{10, 50, 70}\n",
            "{10, 70}\n"
          ]
        }
      ]
    },
    {
      "cell_type": "code",
      "source": [
        "# 백준 9012번 문제\n",
        "# 스택 문제 (올바른 쌍 문제)\n",
        "\n",
        "T = int(input())\n",
        "\n",
        "for _ in range(T):\n",
        "    stk = []\n",
        "    isVPS = True\n",
        "    for ch in input():\n",
        "        if ch == '(':\n",
        "            stk.append(ch)\n",
        "        else :\n",
        "            if len(stk) > 0:\n",
        "                stk.pop()\n",
        "            else:\n",
        "                isVPS = False\n",
        "                break\n",
        "    \n",
        "    if len(stk) > 0:\n",
        "        isVPS = False\n",
        "\n",
        "    print('YES' if isVPS else 'NO')"
      ],
      "metadata": {
        "colab": {
          "base_uri": "https://localhost:8080/",
          "height": 134
        },
        "id": "3vrZKVPew7-b",
        "outputId": "68e7f57b-9f0a-4b69-aa85-77ecb2febbb6"
      },
      "execution_count": 17,
      "outputs": [
        {
          "output_type": "error",
          "ename": "SyntaxError",
          "evalue": "ignored",
          "traceback": [
            "\u001b[0;36m  File \u001b[0;32m\"<ipython-input-17-8cc5b9ca1edb>\"\u001b[0;36m, line \u001b[0;32m14\u001b[0m\n\u001b[0;31m    if len(stk) > 0:\u001b[0m\n\u001b[0m                    ^\u001b[0m\n\u001b[0;31mSyntaxError\u001b[0m\u001b[0;31m:\u001b[0m unexpected EOF while parsing\n"
          ]
        }
      ]
    },
    {
      "cell_type": "code",
      "source": [
        ""
      ],
      "metadata": {
        "id": "RWjQdDrSzE1p"
      },
      "execution_count": null,
      "outputs": []
    }
  ]
}